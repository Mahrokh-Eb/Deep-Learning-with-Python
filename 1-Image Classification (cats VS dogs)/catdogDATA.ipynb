{
 "cells": [
  {
   "cell_type": "code",
   "execution_count": 23,
   "id": "wrong-medicaid",
   "metadata": {},
   "outputs": [],
   "source": [
    "import os\n",
    "import glob\n",
    "import shutil\n",
    "import torchvision\n",
    "import torchvision.datasets as datasets\n",
    "import torchvision.transforms as transforms"
   ]
  },
  {
   "cell_type": "code",
   "execution_count": 24,
   "id": "cooperative-draft",
   "metadata": {},
   "outputs": [],
   "source": [
    "DATA_DIR = '/Users/mahrokh/Desktop/dogcatss/'"
   ]
  },
  {
   "cell_type": "code",
   "execution_count": 25,
   "id": "descending-separation",
   "metadata": {},
   "outputs": [
    {
     "data": {
      "text/plain": [
       "['.DS_Store', 'test', 'train']"
      ]
     },
     "execution_count": 25,
     "metadata": {},
     "output_type": "execute_result"
    }
   ],
   "source": [
    "os.listdir(DATA_DIR)"
   ]
  },
  {
   "cell_type": "code",
   "execution_count": 26,
   "id": "lovely-bangkok",
   "metadata": {},
   "outputs": [],
   "source": [
    "trn_dir = f'{DATA_DIR}train'\n",
    "test_dir = f'{DATA_DIR}test'"
   ]
  },
  {
   "cell_type": "code",
   "execution_count": 27,
   "id": "experimental-grill",
   "metadata": {},
   "outputs": [
    {
     "name": "stdout",
     "output_type": "stream",
     "text": [
      "/Users/mahrokh/Desktop/dogcatss/train\n"
     ]
    }
   ],
   "source": [
    "print(trn_dir)"
   ]
  },
  {
   "cell_type": "code",
   "execution_count": 30,
   "id": "returning-flooring",
   "metadata": {},
   "outputs": [
    {
     "data": {
      "text/plain": [
       "['/Users/mahrokh/Desktop/dogcatss/train/dog.8011.jpg',\n",
       " '/Users/mahrokh/Desktop/dogcatss/train/cat.5077.jpg',\n",
       " '/Users/mahrokh/Desktop/dogcatss/train/dog.7322.jpg']"
      ]
     },
     "execution_count": 30,
     "metadata": {},
     "output_type": "execute_result"
    }
   ],
   "source": [
    "trn_fnames = glob.glob(f'{trn_dir}/*')\n",
    "trn_fnames[:3]"
   ]
  },
  {
   "cell_type": "code",
   "execution_count": 35,
   "id": "medium-fancy",
   "metadata": {},
   "outputs": [],
   "source": [
    "cat = '/Users/mahrokh/Desktop/cat/'\n",
    "dog = '/Users/mahrokh/Desktop/dog/'\n",
    "\n",
    "for name in trn_fnames:\n",
    "    if \"cat\" in name:\n",
    "        shutil.move(name, cat)\n",
    "    elif \"dog\" in name:\n",
    "        shutil.move(name, dog)\n"
   ]
  },
  {
   "cell_type": "code",
   "execution_count": 29,
   "id": "incident-trade",
   "metadata": {},
   "outputs": [],
   "source": [
    "#train_ds = datasets.ImageFolder(trn_dir)"
   ]
  },
  {
   "cell_type": "code",
   "execution_count": null,
   "id": "recognized-investing",
   "metadata": {},
   "outputs": [],
   "source": []
  },
  {
   "cell_type": "code",
   "execution_count": null,
   "id": "least-location",
   "metadata": {},
   "outputs": [],
   "source": []
  }
 ],
 "metadata": {
  "kernelspec": {
   "display_name": "Python 3",
   "language": "python",
   "name": "python3"
  },
  "language_info": {
   "codemirror_mode": {
    "name": "ipython",
    "version": 3
   },
   "file_extension": ".py",
   "mimetype": "text/x-python",
   "name": "python",
   "nbconvert_exporter": "python",
   "pygments_lexer": "ipython3",
   "version": "3.7.10"
  }
 },
 "nbformat": 4,
 "nbformat_minor": 5
}
