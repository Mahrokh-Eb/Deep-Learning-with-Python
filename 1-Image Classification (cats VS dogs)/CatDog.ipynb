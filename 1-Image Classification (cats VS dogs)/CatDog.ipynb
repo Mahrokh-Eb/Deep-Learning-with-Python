{
 "cells": [
  {
   "cell_type": "markdown",
   "id": "sealed-spending",
   "metadata": {},
   "source": [
    "# Image Classification (Cats vs Dogs)"
   ]
  },
  {
   "cell_type": "code",
   "execution_count": 1,
   "id": "excess-government",
   "metadata": {},
   "outputs": [],
   "source": [
    "%reload_ext autoreload\n",
    "%autoreload 2\n",
    "%matplotlib inline\n",
    "\n",
    "import math\n",
    "import time\n",
    "import os\n",
    "import glob\n",
    "import numpy as np\n",
    "import matplotlib.pyplot as plt\n",
    "from tqdm import tqdm\n",
    "from PIL import Image\n",
    "from sklearn.metrics import confusion_matrix\n",
    "\n",
    "import torch \n",
    "import torch.nn as nn\n",
    "import torch.optim as optim\n",
    "from torch.autograd import Variable \n",
    "\n",
    "import torchvision\n",
    "import torchvision.datasets as datasets\n",
    "import torchvision.models as models\n",
    "import torchvision.transforms as transforms\n",
    "\n",
    "# Our libraries\n",
    "from train import train_model\n",
    "from model_utils import *\n",
    "from predict_utils import *\n",
    "from vis_utils import *\n",
    "\n",
    "# some initial setup\n",
    "np.set_printoptions(precision=2)\n",
    "use_gpu = torch.cuda.is_available()"
   ]
  },
  {
   "cell_type": "code",
   "execution_count": 2,
   "id": "unlikely-tackle",
   "metadata": {},
   "outputs": [
    {
     "data": {
      "text/plain": [
       "False"
      ]
     },
     "execution_count": 2,
     "metadata": {},
     "output_type": "execute_result"
    }
   ],
   "source": [
    "use_gpu"
   ]
  },
  {
   "cell_type": "code",
   "execution_count": 8,
   "id": "ruled-adobe",
   "metadata": {},
   "outputs": [
    {
     "name": "stderr",
     "output_type": "stream",
     "text": [
      "0it [00:00, ?it/s]"
     ]
    },
    {
     "name": "stdout",
     "output_type": "stream",
     "text": [
      "0\n",
      "0\n"
     ]
    },
    {
     "name": "stderr",
     "output_type": "stream",
     "text": [
      "\n"
     ]
    }
   ],
   "source": [
    "from data_utils import create_validation_data\n",
    "valid = create_validation_data(trn_dir, val_dir, split=0.1)"
   ]
  },
  {
   "cell_type": "markdown",
   "id": "documented-wilson",
   "metadata": {},
   "source": [
    "## Data"
   ]
  },
  {
   "cell_type": "code",
   "execution_count": 3,
   "id": "pending-abuse",
   "metadata": {},
   "outputs": [],
   "source": [
    "DATA_DIR = '/Users/mahrokh/Desktop/uni/DogsVsCats'\n",
    "\n",
    "sz = 224\n",
    "batch_size = 16"
   ]
  },
  {
   "cell_type": "code",
   "execution_count": 4,
   "id": "suitable-myrtle",
   "metadata": {},
   "outputs": [],
   "source": [
    "#os.listdir('/Users/mahrokh/Desktop/uni/dogs-vs-cats')"
   ]
  },
  {
   "cell_type": "code",
   "execution_count": 5,
   "id": "burning-afternoon",
   "metadata": {},
   "outputs": [
    {
     "data": {
      "text/plain": [
       "['.DS_Store', 'test', 'sampleSubmission.csv', 'train']"
      ]
     },
     "execution_count": 5,
     "metadata": {},
     "output_type": "execute_result"
    }
   ],
   "source": [
    "os.listdir(DATA_DIR)"
   ]
  },
  {
   "cell_type": "code",
   "execution_count": 10,
   "id": "nonprofit-desire",
   "metadata": {},
   "outputs": [],
   "source": [
    "trn_dir = f'{DATA_DIR}train'\n",
    "#val_dir = f'{DATA_DIR}valid'"
   ]
  },
  {
   "cell_type": "code",
   "execution_count": null,
   "id": "velvet-semiconductor",
   "metadata": {},
   "outputs": [],
   "source": []
  },
  {
   "cell_type": "code",
   "execution_count": null,
   "id": "engaging-ranch",
   "metadata": {},
   "outputs": [],
   "source": []
  }
 ],
 "metadata": {
  "kernelspec": {
   "display_name": "Python 3",
   "language": "python",
   "name": "python3"
  },
  "language_info": {
   "codemirror_mode": {
    "name": "ipython",
    "version": 3
   },
   "file_extension": ".py",
   "mimetype": "text/x-python",
   "name": "python",
   "nbconvert_exporter": "python",
   "pygments_lexer": "ipython3",
   "version": "3.7.10"
  }
 },
 "nbformat": 4,
 "nbformat_minor": 5
}
