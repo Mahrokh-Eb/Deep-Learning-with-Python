{
  "nbformat": 4,
  "nbformat_minor": 0,
  "metadata": {
    "colab": {
      "name": "1-1-1-numpy.ipynb",
      "provenance": [],
      "authorship_tag": "ABX9TyP1tm8eUJhdbpRBL2w0GI/p",
      "include_colab_link": true
    },
    "kernelspec": {
      "name": "python3",
      "display_name": "Python 3"
    },
    "language_info": {
      "name": "python"
    }
  },
  "cells": [
    {
      "cell_type": "markdown",
      "metadata": {
        "id": "view-in-github",
        "colab_type": "text"
      },
      "source": [
        "<a href=\"https://colab.research.google.com/github/Mahrokh-Eb/Deep-Learning-with-Python/blob/main/1_1_1_numpy.ipynb\" target=\"_parent\"><img src=\"https://colab.research.google.com/assets/colab-badge.svg\" alt=\"Open In Colab\"/></a>"
      ]
    },
    {
      "cell_type": "code",
      "execution_count": 1,
      "metadata": {
        "id": "QDkJKVEqDMKv"
      },
      "outputs": [],
      "source": [
        "import numpy as np"
      ]
    },
    {
      "cell_type": "code",
      "source": [
        "!python --version"
      ],
      "metadata": {
        "colab": {
          "base_uri": "https://localhost:8080/"
        },
        "id": "94YZ6UBKDUfH",
        "outputId": "c24c7673-cc67-4db4-94af-a3c2f793804d"
      },
      "execution_count": 3,
      "outputs": [
        {
          "output_type": "stream",
          "name": "stdout",
          "text": [
            "Python 3.7.12\n"
          ]
        }
      ]
    },
    {
      "cell_type": "code",
      "source": [
        "print(np.__version__)"
      ],
      "metadata": {
        "colab": {
          "base_uri": "https://localhost:8080/"
        },
        "id": "uwOslV5AEF64",
        "outputId": "15635cd3-aaf2-4b26-9eae-475052128a8f"
      },
      "execution_count": 6,
      "outputs": [
        {
          "output_type": "stream",
          "name": "stdout",
          "text": [
            "1.19.5\n"
          ]
        }
      ]
    },
    {
      "cell_type": "code",
      "source": [
        "#dir(np)"
      ],
      "metadata": {
        "id": "0l0F2tBbEVtS"
      },
      "execution_count": 8,
      "outputs": []
    },
    {
      "cell_type": "code",
      "source": [
        "help(np.where)"
      ],
      "metadata": {
        "colab": {
          "base_uri": "https://localhost:8080/"
        },
        "id": "SsIM_iu0FxhU",
        "outputId": "ab5944c9-7487-4002-eb7f-3c30b01ba419"
      },
      "execution_count": 9,
      "outputs": [
        {
          "output_type": "stream",
          "name": "stdout",
          "text": [
            "Help on function where in module numpy:\n",
            "\n",
            "where(...)\n",
            "    where(condition, [x, y])\n",
            "    \n",
            "    Return elements chosen from `x` or `y` depending on `condition`.\n",
            "    \n",
            "    .. note::\n",
            "        When only `condition` is provided, this function is a shorthand for\n",
            "        ``np.asarray(condition).nonzero()``. Using `nonzero` directly should be\n",
            "        preferred, as it behaves correctly for subclasses. The rest of this\n",
            "        documentation covers only the case where all three arguments are\n",
            "        provided.\n",
            "    \n",
            "    Parameters\n",
            "    ----------\n",
            "    condition : array_like, bool\n",
            "        Where True, yield `x`, otherwise yield `y`.\n",
            "    x, y : array_like\n",
            "        Values from which to choose. `x`, `y` and `condition` need to be\n",
            "        broadcastable to some shape.\n",
            "    \n",
            "    Returns\n",
            "    -------\n",
            "    out : ndarray\n",
            "        An array with elements from `x` where `condition` is True, and elements\n",
            "        from `y` elsewhere.\n",
            "    \n",
            "    See Also\n",
            "    --------\n",
            "    choose\n",
            "    nonzero : The function that is called when x and y are omitted\n",
            "    \n",
            "    Notes\n",
            "    -----\n",
            "    If all the arrays are 1-D, `where` is equivalent to::\n",
            "    \n",
            "        [xv if c else yv\n",
            "         for c, xv, yv in zip(condition, x, y)]\n",
            "    \n",
            "    Examples\n",
            "    --------\n",
            "    >>> a = np.arange(10)\n",
            "    >>> a\n",
            "    array([0, 1, 2, 3, 4, 5, 6, 7, 8, 9])\n",
            "    >>> np.where(a < 5, a, 10*a)\n",
            "    array([ 0,  1,  2,  3,  4, 50, 60, 70, 80, 90])\n",
            "    \n",
            "    This can be used on multidimensional arrays too:\n",
            "    \n",
            "    >>> np.where([[True, False], [True, True]],\n",
            "    ...          [[1, 2], [3, 4]],\n",
            "    ...          [[9, 8], [7, 6]])\n",
            "    array([[1, 8],\n",
            "           [3, 4]])\n",
            "    \n",
            "    The shapes of x, y, and the condition are broadcast together:\n",
            "    \n",
            "    >>> x, y = np.ogrid[:3, :4]\n",
            "    >>> np.where(x < y, x, 10 + y)  # both x and 10+y are broadcast\n",
            "    array([[10,  0,  0,  0],\n",
            "           [10, 11,  1,  1],\n",
            "           [10, 11, 12,  2]])\n",
            "    \n",
            "    >>> a = np.array([[0, 1, 2],\n",
            "    ...               [0, 2, 4],\n",
            "    ...               [0, 3, 6]])\n",
            "    >>> np.where(a < 4, a, -1)  # -1 is broadcast\n",
            "    array([[ 0,  1,  2],\n",
            "           [ 0,  2, -1],\n",
            "           [ 0,  3, -1]])\n",
            "\n"
          ]
        }
      ]
    },
    {
      "cell_type": "code",
      "source": [
        ""
      ],
      "metadata": {
        "id": "YzYap0JGGBgI"
      },
      "execution_count": null,
      "outputs": []
    }
  ]
}